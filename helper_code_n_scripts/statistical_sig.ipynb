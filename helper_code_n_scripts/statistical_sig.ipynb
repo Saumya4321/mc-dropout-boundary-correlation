{
  "nbformat": 4,
  "nbformat_minor": 0,
  "metadata": {
    "colab": {
      "provenance": []
    },
    "kernelspec": {
      "name": "python3",
      "display_name": "Python 3"
    },
    "language_info": {
      "name": "python"
    }
  },
  "cells": [
    {
      "cell_type": "code",
      "source": [
        "from google.colab import drive\n",
        "drive.mount('/content/drive')"
      ],
      "metadata": {
        "id": "wYddrXny8xr-"
      },
      "execution_count": null,
      "outputs": []
    },
    {
      "cell_type": "code",
      "execution_count": 2,
      "metadata": {
        "id": "bSKZOiPG78K9"
      },
      "outputs": [],
      "source": [
        "import numpy as np\n",
        "from scipy.stats import ttest_rel, wilcoxon\n",
        "\n",
        "corrs_total_aug1 = np.load('/content/correlations_pearson_noaug.npy')\n",
        "corrs_total_aug2 = np.load('/content/correlations_pearson_flip.npy')\n",
        "corrs_boundary_aug1 = np.load('/content/boundary_correlations_pearson_noaug.npy')\n",
        "corrs_boundary_aug2 = np.load('/content/boundary_correlations_pearson_flip.npy')"
      ]
    },
    {
      "cell_type": "code",
      "source": [
        "# 1. Paired t-test (parametric)\n",
        "def run_statistical_test(corrs_aug1, corrs_aug2):\n",
        "  t_stat, p_value_ttest = ttest_rel(corrs_aug1, corrs_aug2)\n",
        "  print(f\"Paired t-test: t={t_stat:.4f}, p={p_value_ttest:.4e}\")\n",
        "\n",
        "  # 2. Wilcoxon signed-rank test (non-parametric; robust to non-normality)\n",
        "  w_stat, p_value_wilcoxon = wilcoxon(corrs_aug1, corrs_aug2)\n",
        "  print(f\"Wilcoxon signed-rank test: W={w_stat:.4f}, p={p_value_wilcoxon:.4e}\")\n",
        "\n",
        "  # Interpretation:\n",
        "  if p_value_ttest < 0.05:\n",
        "      print(\"Paired t-test: Significant difference (p < 0.05)\")\n",
        "  else:\n",
        "      print(\"Paired t-test: No significant difference (p >= 0.05)\")\n",
        "\n",
        "  if p_value_wilcoxon < 0.05:\n",
        "      print(\"Wilcoxon: Significant difference (p < 0.05)\")\n",
        "  else:\n",
        "      print(\"Wilcoxon: No significant difference (p >= 0.05)\")"
      ],
      "metadata": {
        "id": "s8XjO7bv8FtE"
      },
      "execution_count": 3,
      "outputs": []
    },
    {
      "cell_type": "code",
      "source": [
        "run_statistical_test(corrs_total_aug1, corrs_total_aug2)\n"
      ],
      "metadata": {
        "colab": {
          "base_uri": "https://localhost:8080/"
        },
        "id": "fLExMX7u81s9",
        "outputId": "2beb0c68-dd83-42cf-f555-b79e1f88164b"
      },
      "execution_count": 4,
      "outputs": [
        {
          "output_type": "stream",
          "name": "stdout",
          "text": [
            "Paired t-test: t=6.5256, p=1.4220e-10\n",
            "Wilcoxon signed-rank test: W=63270.0000, p=2.1080e-12\n",
            "Paired t-test: Significant difference (p < 0.05)\n",
            "Wilcoxon: Significant difference (p < 0.05)\n"
          ]
        }
      ]
    },
    {
      "cell_type": "code",
      "source": [
        "run_statistical_test(corrs_boundary_aug1, corrs_boundary_aug2)"
      ],
      "metadata": {
        "colab": {
          "base_uri": "https://localhost:8080/"
        },
        "id": "mphowVjA86o1",
        "outputId": "53e55ec9-5a88-4352-a391-bd9c636ee03b"
      },
      "execution_count": 5,
      "outputs": [
        {
          "output_type": "stream",
          "name": "stdout",
          "text": [
            "Paired t-test: t=-5.1793, p=3.0275e-07\n",
            "Wilcoxon signed-rank test: W=66882.0000, p=1.7499e-06\n",
            "Paired t-test: Significant difference (p < 0.05)\n",
            "Wilcoxon: Significant difference (p < 0.05)\n"
          ]
        }
      ]
    }
  ]
}